{
 "cells": [
  {
   "cell_type": "code",
   "id": "initial_id",
   "metadata": {
    "collapsed": true,
    "ExecuteTime": {
     "end_time": "2024-08-02T20:51:02.032251Z",
     "start_time": "2024-08-02T20:51:00.086661Z"
    }
   },
   "source": [
    "import pandas as pd\n",
    "from sklearn.tree import DecisionTreeClassifier\n",
    "from sklearn.model_selection import train_test_split\n",
    "from sklearn import metrics #for accuracy calculation"
   ],
   "outputs": [],
   "execution_count": 1
  },
  {
   "metadata": {
    "ExecuteTime": {
     "end_time": "2024-08-02T20:55:45.076829Z",
     "start_time": "2024-08-02T20:55:45.062753Z"
    }
   },
   "cell_type": "code",
   "source": [
    "#working with the dataset\n",
    "\n",
    "col_names = ['company','job','defree','salary_more_than_100k']\n",
    "data=pd.read_csv('salaries.csv', header=None, names=col_names)"
   ],
   "id": "ac7556a88df02492",
   "outputs": [],
   "execution_count": 3
  },
  {
   "metadata": {
    "ExecuteTime": {
     "end_time": "2024-08-02T20:55:53.279355Z",
     "start_time": "2024-08-02T20:55:53.254847Z"
    }
   },
   "cell_type": "code",
   "source": "data",
   "id": "3dcb9d3c006035d4",
   "outputs": [
    {
     "data": {
      "text/plain": [
       "       company                  job      defree  salary_more_than_100k\n",
       "0      company                  job      degree  salary_more_then_100k\n",
       "1       google        sale exective  bachelaors                      0\n",
       "2       google        sale exective     masters                      0\n",
       "3       google     business manager  bachelaors                      1\n",
       "4       google     business manager     masters                      1\n",
       "5       google  computer programmer  bachelaors                      0\n",
       "6       google  computer programmer     masters                      1\n",
       "7   abc pharma        sale exective     masters                      0\n",
       "8   abc pharma  computer programmer  bachelaors                      0\n",
       "9   abc pharma     business manager  bachelaors                      0\n",
       "10  abc pharma     business manager     masters                      1\n",
       "11    facebook        sale exective  bachelaors                      1\n",
       "12    facebook        sale exective     masters                      1\n",
       "13    facebook     business manager  bachelaors                      1\n",
       "14    facebook     business manager     masters                      1\n",
       "15    facebook  computer programmer  bachelaors                      1\n",
       "16    facebook  computer programmer     masters                      1"
      ],
      "text/html": [
       "<div>\n",
       "<style scoped>\n",
       "    .dataframe tbody tr th:only-of-type {\n",
       "        vertical-align: middle;\n",
       "    }\n",
       "\n",
       "    .dataframe tbody tr th {\n",
       "        vertical-align: top;\n",
       "    }\n",
       "\n",
       "    .dataframe thead th {\n",
       "        text-align: right;\n",
       "    }\n",
       "</style>\n",
       "<table border=\"1\" class=\"dataframe\">\n",
       "  <thead>\n",
       "    <tr style=\"text-align: right;\">\n",
       "      <th></th>\n",
       "      <th>company</th>\n",
       "      <th>job</th>\n",
       "      <th>defree</th>\n",
       "      <th>salary_more_than_100k</th>\n",
       "    </tr>\n",
       "  </thead>\n",
       "  <tbody>\n",
       "    <tr>\n",
       "      <th>0</th>\n",
       "      <td>company</td>\n",
       "      <td>job</td>\n",
       "      <td>degree</td>\n",
       "      <td>salary_more_then_100k</td>\n",
       "    </tr>\n",
       "    <tr>\n",
       "      <th>1</th>\n",
       "      <td>google</td>\n",
       "      <td>sale exective</td>\n",
       "      <td>bachelaors</td>\n",
       "      <td>0</td>\n",
       "    </tr>\n",
       "    <tr>\n",
       "      <th>2</th>\n",
       "      <td>google</td>\n",
       "      <td>sale exective</td>\n",
       "      <td>masters</td>\n",
       "      <td>0</td>\n",
       "    </tr>\n",
       "    <tr>\n",
       "      <th>3</th>\n",
       "      <td>google</td>\n",
       "      <td>business manager</td>\n",
       "      <td>bachelaors</td>\n",
       "      <td>1</td>\n",
       "    </tr>\n",
       "    <tr>\n",
       "      <th>4</th>\n",
       "      <td>google</td>\n",
       "      <td>business manager</td>\n",
       "      <td>masters</td>\n",
       "      <td>1</td>\n",
       "    </tr>\n",
       "    <tr>\n",
       "      <th>5</th>\n",
       "      <td>google</td>\n",
       "      <td>computer programmer</td>\n",
       "      <td>bachelaors</td>\n",
       "      <td>0</td>\n",
       "    </tr>\n",
       "    <tr>\n",
       "      <th>6</th>\n",
       "      <td>google</td>\n",
       "      <td>computer programmer</td>\n",
       "      <td>masters</td>\n",
       "      <td>1</td>\n",
       "    </tr>\n",
       "    <tr>\n",
       "      <th>7</th>\n",
       "      <td>abc pharma</td>\n",
       "      <td>sale exective</td>\n",
       "      <td>masters</td>\n",
       "      <td>0</td>\n",
       "    </tr>\n",
       "    <tr>\n",
       "      <th>8</th>\n",
       "      <td>abc pharma</td>\n",
       "      <td>computer programmer</td>\n",
       "      <td>bachelaors</td>\n",
       "      <td>0</td>\n",
       "    </tr>\n",
       "    <tr>\n",
       "      <th>9</th>\n",
       "      <td>abc pharma</td>\n",
       "      <td>business manager</td>\n",
       "      <td>bachelaors</td>\n",
       "      <td>0</td>\n",
       "    </tr>\n",
       "    <tr>\n",
       "      <th>10</th>\n",
       "      <td>abc pharma</td>\n",
       "      <td>business manager</td>\n",
       "      <td>masters</td>\n",
       "      <td>1</td>\n",
       "    </tr>\n",
       "    <tr>\n",
       "      <th>11</th>\n",
       "      <td>facebook</td>\n",
       "      <td>sale exective</td>\n",
       "      <td>bachelaors</td>\n",
       "      <td>1</td>\n",
       "    </tr>\n",
       "    <tr>\n",
       "      <th>12</th>\n",
       "      <td>facebook</td>\n",
       "      <td>sale exective</td>\n",
       "      <td>masters</td>\n",
       "      <td>1</td>\n",
       "    </tr>\n",
       "    <tr>\n",
       "      <th>13</th>\n",
       "      <td>facebook</td>\n",
       "      <td>business manager</td>\n",
       "      <td>bachelaors</td>\n",
       "      <td>1</td>\n",
       "    </tr>\n",
       "    <tr>\n",
       "      <th>14</th>\n",
       "      <td>facebook</td>\n",
       "      <td>business manager</td>\n",
       "      <td>masters</td>\n",
       "      <td>1</td>\n",
       "    </tr>\n",
       "    <tr>\n",
       "      <th>15</th>\n",
       "      <td>facebook</td>\n",
       "      <td>computer programmer</td>\n",
       "      <td>bachelaors</td>\n",
       "      <td>1</td>\n",
       "    </tr>\n",
       "    <tr>\n",
       "      <th>16</th>\n",
       "      <td>facebook</td>\n",
       "      <td>computer programmer</td>\n",
       "      <td>masters</td>\n",
       "      <td>1</td>\n",
       "    </tr>\n",
       "  </tbody>\n",
       "</table>\n",
       "</div>"
      ]
     },
     "execution_count": 4,
     "metadata": {},
     "output_type": "execute_result"
    }
   ],
   "execution_count": 4
  },
  {
   "metadata": {
    "ExecuteTime": {
     "end_time": "2024-08-02T20:58:52.419772Z",
     "start_time": "2024-08-02T20:58:52.412075Z"
    }
   },
   "cell_type": "code",
   "source": [
    "#split the dataset in features and target variable\n",
    "feature_cols=['company','job','defree'] #should be degree\n",
    "X=data[feature_cols]\n",
    "y=data['salary_more_than_100k']"
   ],
   "id": "54ea9849673468ca",
   "outputs": [],
   "execution_count": 6
  },
  {
   "metadata": {
    "ExecuteTime": {
     "end_time": "2024-08-02T21:08:40.977359Z",
     "start_time": "2024-08-02T21:08:40.967738Z"
    }
   },
   "cell_type": "code",
   "source": [
    "#importing label encoder\n",
    "from sklearn import preprocessing\n",
    "#Label_encoder object knows how to understand word labels\n",
    "label_encoder = preprocessing.LabelEncoder()\n",
    "#encoding labels in column\n",
    "data['company']=label_encoder.fit_transform(data['company'])\n",
    "data['job']=label_encoder.fit_transform(data['job'])\n",
    "data['defree']=label_encoder.fit_transform(data['defree'])"
   ],
   "id": "eed77af57da7af19",
   "outputs": [],
   "execution_count": 16
  },
  {
   "metadata": {
    "ExecuteTime": {
     "end_time": "2024-08-02T21:08:43.999419Z",
     "start_time": "2024-08-02T21:08:43.989150Z"
    }
   },
   "cell_type": "code",
   "source": "print(data.head())",
   "id": "19961efa889150aa",
   "outputs": [
    {
     "name": "stdout",
     "output_type": "stream",
     "text": [
      "   company  job  defree  salary_more_than_100k\n",
      "0        1    2       1  salary_more_then_100k\n",
      "1        3    3       0                      0\n",
      "2        3    3       2                      0\n",
      "3        3    0       0                      1\n",
      "4        3    0       2                      1\n"
     ]
    }
   ],
   "execution_count": 17
  },
  {
   "metadata": {
    "ExecuteTime": {
     "end_time": "2024-08-02T21:12:05.844030Z",
     "start_time": "2024-08-02T21:12:05.830672Z"
    }
   },
   "cell_type": "code",
   "source": [
    "#split the dataset in features and target variable\n",
    "feature_cols=['company','job','defree'] #should be degree\n",
    "X=data[feature_cols]\n",
    "y=data['salary_more_than_100k']\n",
    "#X=data.values[1:,:3]\n",
    "#y=data.values[1:,:3]  \n",
    "#[1:,:3] means we're not using the header\n",
    "print(X)\n",
    "print(y)"
   ],
   "id": "5a71a0cafc8d3723",
   "outputs": [
    {
     "name": "stdout",
     "output_type": "stream",
     "text": [
      "    company  job  defree\n",
      "0         1    2       1\n",
      "1         3    3       0\n",
      "2         3    3       2\n",
      "3         3    0       0\n",
      "4         3    0       2\n",
      "5         3    1       0\n",
      "6         3    1       2\n",
      "7         0    3       2\n",
      "8         0    1       0\n",
      "9         0    0       0\n",
      "10        0    0       2\n",
      "11        2    3       0\n",
      "12        2    3       2\n",
      "13        2    0       0\n",
      "14        2    0       2\n",
      "15        2    1       0\n",
      "16        2    1       2\n",
      "0     salary_more_then_100k\n",
      "1                         0\n",
      "2                         0\n",
      "3                         1\n",
      "4                         1\n",
      "5                         0\n",
      "6                         1\n",
      "7                         0\n",
      "8                         0\n",
      "9                         0\n",
      "10                        1\n",
      "11                        1\n",
      "12                        1\n",
      "13                        1\n",
      "14                        1\n",
      "15                        1\n",
      "16                        1\n",
      "Name: salary_more_than_100k, dtype: object\n"
     ]
    }
   ],
   "execution_count": 22
  },
  {
   "metadata": {
    "ExecuteTime": {
     "end_time": "2024-08-02T21:15:58.883576Z",
     "start_time": "2024-08-02T21:15:58.861247Z"
    }
   },
   "cell_type": "code",
   "source": "X_train, X_test, y_train, y_test = train_test_split(X,y,test_size=0.2, random_state=100)",
   "id": "ff16fba8e25fffb4",
   "outputs": [],
   "execution_count": 23
  },
  {
   "metadata": {
    "ExecuteTime": {
     "end_time": "2024-08-02T21:17:53.342964Z",
     "start_time": "2024-08-02T21:17:53.322337Z"
    }
   },
   "cell_type": "code",
   "source": [
    "clf_entropy=DecisionTreeClassifier(criterion=\"entropy\", max_depth=8)\n",
    "clf_entropy=clf_entropy.fit(X_train, y_train)"
   ],
   "id": "58931692a6f297d5",
   "outputs": [],
   "execution_count": 24
  },
  {
   "metadata": {
    "ExecuteTime": {
     "end_time": "2024-08-02T21:18:49.885819Z",
     "start_time": "2024-08-02T21:18:49.872816Z"
    }
   },
   "cell_type": "code",
   "source": [
    "y_pred=clf_entropy.predict(X_test)\n",
    "print(\"Accuracy\", metrics.accuracy_score(y_test, y_pred))"
   ],
   "id": "3cf429d7e0cc4ed6",
   "outputs": [
    {
     "name": "stdout",
     "output_type": "stream",
     "text": [
      "Accuracy 0.75\n"
     ]
    }
   ],
   "execution_count": 25
  },
  {
   "metadata": {},
   "cell_type": "code",
   "outputs": [],
   "execution_count": null,
   "source": "",
   "id": "f8dd405d24d1646f"
  }
 ],
 "metadata": {
  "kernelspec": {
   "display_name": "Python 3",
   "language": "python",
   "name": "python3"
  },
  "language_info": {
   "codemirror_mode": {
    "name": "ipython",
    "version": 2
   },
   "file_extension": ".py",
   "mimetype": "text/x-python",
   "name": "python",
   "nbconvert_exporter": "python",
   "pygments_lexer": "ipython2",
   "version": "2.7.6"
  }
 },
 "nbformat": 4,
 "nbformat_minor": 5
}
