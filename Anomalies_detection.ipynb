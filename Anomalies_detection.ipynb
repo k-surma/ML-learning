{
 "cells": [
  {
   "cell_type": "code",
   "id": "initial_id",
   "metadata": {
    "collapsed": true,
    "ExecuteTime": {
     "end_time": "2024-07-20T17:49:16.463996Z",
     "start_time": "2024-07-20T17:49:16.460659Z"
    }
   },
   "source": [
    "import numpy as np\n",
    "import pandas as pd"
   ],
   "outputs": [],
   "execution_count": 23
  },
  {
   "metadata": {
    "ExecuteTime": {
     "end_time": "2024-07-20T17:49:16.472670Z",
     "start_time": "2024-07-20T17:49:16.465011Z"
    }
   },
   "cell_type": "code",
   "source": "x=pd.Series([2.1, 2.3, 4.5, 2.4, 2.2])",
   "id": "eef6a088adf321d9",
   "outputs": [],
   "execution_count": 24
  },
  {
   "metadata": {
    "ExecuteTime": {
     "end_time": "2024-07-20T17:49:16.477271Z",
     "start_time": "2024-07-20T17:49:16.473680Z"
    }
   },
   "cell_type": "code",
   "source": [
    "#median-based\n",
    "median=np.median(x)\n",
    "threshold=2\n",
    "outliers=[]\n",
    "for item in x:\n",
    "    if abs(item-median)>threshold:\n",
    "        outliers.append(item)\n",
    "print(outliers)"
   ],
   "id": "6d0c13ecbb17118",
   "outputs": [
    {
     "name": "stdout",
     "output_type": "stream",
     "text": [
      "[4.5]\n"
     ]
    }
   ],
   "execution_count": 25
  },
  {
   "metadata": {
    "ExecuteTime": {
     "end_time": "2024-07-20T17:49:16.482741Z",
     "start_time": "2024-07-20T17:49:16.479285Z"
    }
   },
   "cell_type": "code",
   "source": [
    "#mean-based\n",
    "mean=np.mean(x)\n",
    "std=np.std(x) #standard-deviation\n",
    "outliers=[]\n",
    "for item in x:\n",
    "    if item<mean-std or item>mean+std:\n",
    "        outliers.append(item)\n",
    "print(outliers)"
   ],
   "id": "ac7d680d76ccb50c",
   "outputs": [
    {
     "name": "stdout",
     "output_type": "stream",
     "text": [
      "[4.5]\n"
     ]
    }
   ],
   "execution_count": 26
  },
  {
   "metadata": {
    "ExecuteTime": {
     "end_time": "2024-07-20T17:49:16.487270Z",
     "start_time": "2024-07-20T17:49:16.483749Z"
    }
   },
   "cell_type": "code",
   "source": [
    "#z-score-based\n",
    "mean=np.mean(x)\n",
    "std=np.std(x) #standard-deviation\n",
    "outliers=[]\n",
    "for item in x:\n",
    "    z_score=(item-mean)/std\n",
    "    if z_score >1:\n",
    "        outliers.append(item)\n",
    "print(outliers)"
   ],
   "id": "a76cb6b3cdf526ca",
   "outputs": [
    {
     "name": "stdout",
     "output_type": "stream",
     "text": [
      "[4.5]\n"
     ]
    }
   ],
   "execution_count": 27
  },
  {
   "metadata": {
    "ExecuteTime": {
     "end_time": "2024-07-20T17:49:16.491928Z",
     "start_time": "2024-07-20T17:49:16.488280Z"
    }
   },
   "cell_type": "code",
   "source": [
    "Q1, Q3 =np.percentile(x,[25,75])\n",
    "IQR=Q3-Q1\n",
    "outliers=[]\n",
    "for item in x:\n",
    "    if item<(Q1-1.5*IQR) or item>(Q3+1.5*IQR):\n",
    "        outliers.append(item)\n",
    "print(outliers)"
   ],
   "id": "43fb7a70b7ce5601",
   "outputs": [
    {
     "name": "stdout",
     "output_type": "stream",
     "text": [
      "[4.5]\n"
     ]
    }
   ],
   "execution_count": 28
  },
  {
   "metadata": {
    "ExecuteTime": {
     "end_time": "2024-07-20T17:49:16.495324Z",
     "start_time": "2024-07-20T17:49:16.491928Z"
    }
   },
   "cell_type": "code",
   "source": [
    "#Dealing with missing values\n",
    "from numpy import NaN\n",
    "data1={'Name': ['Edison', 'Edward', 'James', 'Ken'], 'Age': [26, 27, NaN, 36]}"
   ],
   "id": "990c126a0d3043d4",
   "outputs": [],
   "execution_count": 29
  },
  {
   "metadata": {
    "ExecuteTime": {
     "end_time": "2024-07-20T17:49:16.501771Z",
     "start_time": "2024-07-20T17:49:16.496332Z"
    }
   },
   "cell_type": "code",
   "source": [
    "data=pd.DataFrame.from_dict(data1)\n",
    "data"
   ],
   "id": "f94eaf1b5cfe32b1",
   "outputs": [
    {
     "data": {
      "text/plain": [
       "     Name   Age\n",
       "0  Edison  26.0\n",
       "1  Edward  27.0\n",
       "2   James   NaN\n",
       "3     Ken  36.0"
      ],
      "text/html": [
       "<div>\n",
       "<style scoped>\n",
       "    .dataframe tbody tr th:only-of-type {\n",
       "        vertical-align: middle;\n",
       "    }\n",
       "\n",
       "    .dataframe tbody tr th {\n",
       "        vertical-align: top;\n",
       "    }\n",
       "\n",
       "    .dataframe thead th {\n",
       "        text-align: right;\n",
       "    }\n",
       "</style>\n",
       "<table border=\"1\" class=\"dataframe\">\n",
       "  <thead>\n",
       "    <tr style=\"text-align: right;\">\n",
       "      <th></th>\n",
       "      <th>Name</th>\n",
       "      <th>Age</th>\n",
       "    </tr>\n",
       "  </thead>\n",
       "  <tbody>\n",
       "    <tr>\n",
       "      <th>0</th>\n",
       "      <td>Edison</td>\n",
       "      <td>26.0</td>\n",
       "    </tr>\n",
       "    <tr>\n",
       "      <th>1</th>\n",
       "      <td>Edward</td>\n",
       "      <td>27.0</td>\n",
       "    </tr>\n",
       "    <tr>\n",
       "      <th>2</th>\n",
       "      <td>James</td>\n",
       "      <td>NaN</td>\n",
       "    </tr>\n",
       "    <tr>\n",
       "      <th>3</th>\n",
       "      <td>Ken</td>\n",
       "      <td>36.0</td>\n",
       "    </tr>\n",
       "  </tbody>\n",
       "</table>\n",
       "</div>"
      ]
     },
     "execution_count": 30,
     "metadata": {},
     "output_type": "execute_result"
    }
   ],
   "execution_count": 30
  },
  {
   "metadata": {
    "ExecuteTime": {
     "end_time": "2024-07-20T17:49:16.507400Z",
     "start_time": "2024-07-20T17:49:16.502781Z"
    }
   },
   "cell_type": "code",
   "source": "data.isnull()",
   "id": "a761340872835fd3",
   "outputs": [
    {
     "data": {
      "text/plain": [
       "    Name    Age\n",
       "0  False  False\n",
       "1  False  False\n",
       "2  False   True\n",
       "3  False  False"
      ],
      "text/html": [
       "<div>\n",
       "<style scoped>\n",
       "    .dataframe tbody tr th:only-of-type {\n",
       "        vertical-align: middle;\n",
       "    }\n",
       "\n",
       "    .dataframe tbody tr th {\n",
       "        vertical-align: top;\n",
       "    }\n",
       "\n",
       "    .dataframe thead th {\n",
       "        text-align: right;\n",
       "    }\n",
       "</style>\n",
       "<table border=\"1\" class=\"dataframe\">\n",
       "  <thead>\n",
       "    <tr style=\"text-align: right;\">\n",
       "      <th></th>\n",
       "      <th>Name</th>\n",
       "      <th>Age</th>\n",
       "    </tr>\n",
       "  </thead>\n",
       "  <tbody>\n",
       "    <tr>\n",
       "      <th>0</th>\n",
       "      <td>False</td>\n",
       "      <td>False</td>\n",
       "    </tr>\n",
       "    <tr>\n",
       "      <th>1</th>\n",
       "      <td>False</td>\n",
       "      <td>False</td>\n",
       "    </tr>\n",
       "    <tr>\n",
       "      <th>2</th>\n",
       "      <td>False</td>\n",
       "      <td>True</td>\n",
       "    </tr>\n",
       "    <tr>\n",
       "      <th>3</th>\n",
       "      <td>False</td>\n",
       "      <td>False</td>\n",
       "    </tr>\n",
       "  </tbody>\n",
       "</table>\n",
       "</div>"
      ]
     },
     "execution_count": 31,
     "metadata": {},
     "output_type": "execute_result"
    }
   ],
   "execution_count": 31
  },
  {
   "metadata": {
    "ExecuteTime": {
     "end_time": "2024-07-20T17:49:16.535324Z",
     "start_time": "2024-07-20T17:49:16.530609Z"
    }
   },
   "cell_type": "code",
   "source": "data.isnull().sum()",
   "id": "5dae0b3d1a59ac81",
   "outputs": [
    {
     "data": {
      "text/plain": [
       "Name    0\n",
       "Age     1\n",
       "dtype: int64"
      ]
     },
     "execution_count": 32,
     "metadata": {},
     "output_type": "execute_result"
    }
   ],
   "execution_count": 32
  },
  {
   "metadata": {
    "ExecuteTime": {
     "end_time": "2024-07-20T17:51:42.079052Z",
     "start_time": "2024-07-20T17:51:42.072704Z"
    }
   },
   "cell_type": "code",
   "source": [
    "data.dropna(inplace=True)\n",
    "data\n",
    "#unless 'inplace is used, 'data' will not be permanently modified"
   ],
   "id": "f9ee35633ed25f5d",
   "outputs": [
    {
     "data": {
      "text/plain": [
       "     Name   Age\n",
       "0  Edison  26.0\n",
       "1  Edward  27.0\n",
       "3     Ken  36.0"
      ],
      "text/html": [
       "<div>\n",
       "<style scoped>\n",
       "    .dataframe tbody tr th:only-of-type {\n",
       "        vertical-align: middle;\n",
       "    }\n",
       "\n",
       "    .dataframe tbody tr th {\n",
       "        vertical-align: top;\n",
       "    }\n",
       "\n",
       "    .dataframe thead th {\n",
       "        text-align: right;\n",
       "    }\n",
       "</style>\n",
       "<table border=\"1\" class=\"dataframe\">\n",
       "  <thead>\n",
       "    <tr style=\"text-align: right;\">\n",
       "      <th></th>\n",
       "      <th>Name</th>\n",
       "      <th>Age</th>\n",
       "    </tr>\n",
       "  </thead>\n",
       "  <tbody>\n",
       "    <tr>\n",
       "      <th>0</th>\n",
       "      <td>Edison</td>\n",
       "      <td>26.0</td>\n",
       "    </tr>\n",
       "    <tr>\n",
       "      <th>1</th>\n",
       "      <td>Edward</td>\n",
       "      <td>27.0</td>\n",
       "    </tr>\n",
       "    <tr>\n",
       "      <th>3</th>\n",
       "      <td>Ken</td>\n",
       "      <td>36.0</td>\n",
       "    </tr>\n",
       "  </tbody>\n",
       "</table>\n",
       "</div>"
      ]
     },
     "execution_count": 37,
     "metadata": {},
     "output_type": "execute_result"
    }
   ],
   "execution_count": 37
  },
  {
   "metadata": {
    "ExecuteTime": {
     "end_time": "2024-07-20T18:02:35.542998Z",
     "start_time": "2024-07-20T18:02:35.539310Z"
    }
   },
   "cell_type": "code",
   "source": [
    "data1 = {'Name': ['Edison', 'Edward', 'James', 'Ken'], 'Age': [26, 27, NaN, 36]}\n",
    "data_ = pd.DataFrame.from_dict(data1)"
   ],
   "id": "9e0d113aeccab065",
   "outputs": [],
   "execution_count": 44
  },
  {
   "metadata": {
    "ExecuteTime": {
     "end_time": "2024-07-20T18:03:37.734078Z",
     "start_time": "2024-07-20T18:03:37.727181Z"
    }
   },
   "cell_type": "code",
   "source": [
    "data_['Age'].fillna(data_['Age'].mean(), inplace=True)\n",
    "data_\n",
    "#can be similarily done with mode()"
   ],
   "id": "ad9719eda83501bb",
   "outputs": [
    {
     "name": "stderr",
     "output_type": "stream",
     "text": [
      "C:\\Users\\User\\AppData\\Local\\Temp\\ipykernel_14688\\50553019.py:1: FutureWarning: A value is trying to be set on a copy of a DataFrame or Series through chained assignment using an inplace method.\n",
      "The behavior will change in pandas 3.0. This inplace method will never work because the intermediate object on which we are setting values always behaves as a copy.\n",
      "\n",
      "For example, when doing 'df[col].method(value, inplace=True)', try using 'df.method({col: value}, inplace=True)' or df[col] = df[col].method(value) instead, to perform the operation inplace on the original object.\n",
      "\n",
      "\n",
      "  data_['Age'].fillna(data_['Age'].mean(), inplace=True)\n"
     ]
    },
    {
     "data": {
      "text/plain": [
       "     Name        Age\n",
       "0  Edison  26.000000\n",
       "1  Edward  27.000000\n",
       "2   James  29.666667\n",
       "3     Ken  36.000000"
      ],
      "text/html": [
       "<div>\n",
       "<style scoped>\n",
       "    .dataframe tbody tr th:only-of-type {\n",
       "        vertical-align: middle;\n",
       "    }\n",
       "\n",
       "    .dataframe tbody tr th {\n",
       "        vertical-align: top;\n",
       "    }\n",
       "\n",
       "    .dataframe thead th {\n",
       "        text-align: right;\n",
       "    }\n",
       "</style>\n",
       "<table border=\"1\" class=\"dataframe\">\n",
       "  <thead>\n",
       "    <tr style=\"text-align: right;\">\n",
       "      <th></th>\n",
       "      <th>Name</th>\n",
       "      <th>Age</th>\n",
       "    </tr>\n",
       "  </thead>\n",
       "  <tbody>\n",
       "    <tr>\n",
       "      <th>0</th>\n",
       "      <td>Edison</td>\n",
       "      <td>26.000000</td>\n",
       "    </tr>\n",
       "    <tr>\n",
       "      <th>1</th>\n",
       "      <td>Edward</td>\n",
       "      <td>27.000000</td>\n",
       "    </tr>\n",
       "    <tr>\n",
       "      <th>2</th>\n",
       "      <td>James</td>\n",
       "      <td>29.666667</td>\n",
       "    </tr>\n",
       "    <tr>\n",
       "      <th>3</th>\n",
       "      <td>Ken</td>\n",
       "      <td>36.000000</td>\n",
       "    </tr>\n",
       "  </tbody>\n",
       "</table>\n",
       "</div>"
      ]
     },
     "execution_count": 46,
     "metadata": {},
     "output_type": "execute_result"
    }
   ],
   "execution_count": 46
  },
  {
   "metadata": {
    "ExecuteTime": {
     "end_time": "2024-07-20T18:14:28.953966Z",
     "start_time": "2024-07-20T18:14:28.950328Z"
    }
   },
   "cell_type": "code",
   "source": [
    "#Regular expressions\n",
    "import re\n",
    "x=\"Python was released in 1991\"\n",
    "x1=re.findall(\"^Python\", x) #checking if the x value starts with \"Python\"\n",
    "x2=re.findall('\\d', x)\n",
    "x3=re.findall('\\d+', x)\n",
    "print(x1, x2, x3)"
   ],
   "id": "61a66bbaa96c9096",
   "outputs": [
    {
     "name": "stdout",
     "output_type": "stream",
     "text": [
      "['Python'] ['1', '9', '9', '1'] ['1991']\n"
     ]
    },
    {
     "name": "stderr",
     "output_type": "stream",
     "text": [
      "<>:5: SyntaxWarning: invalid escape sequence '\\d'\n",
      "<>:6: SyntaxWarning: invalid escape sequence '\\d'\n",
      "<>:5: SyntaxWarning: invalid escape sequence '\\d'\n",
      "<>:6: SyntaxWarning: invalid escape sequence '\\d'\n",
      "C:\\Users\\User\\AppData\\Local\\Temp\\ipykernel_14688\\3963852774.py:5: SyntaxWarning: invalid escape sequence '\\d'\n",
      "  x2=re.findall('\\d', x)\n",
      "C:\\Users\\User\\AppData\\Local\\Temp\\ipykernel_14688\\3963852774.py:6: SyntaxWarning: invalid escape sequence '\\d'\n",
      "  x3=re.findall('\\d+', x)\n"
     ]
    }
   ],
   "execution_count": 50
  },
  {
   "metadata": {
    "ExecuteTime": {
     "end_time": "2024-07-20T18:23:52.745232Z",
     "start_time": "2024-07-20T18:23:52.740690Z"
    }
   },
   "cell_type": "code",
   "source": [
    "txt=\"Hello World\"\n",
    "#checking if the text matches the pattern\n",
    "match_object=re.search(pattern='World', string= txt)\n",
    "match_object.span()"
   ],
   "id": "31b42058cc641ec1",
   "outputs": [
    {
     "data": {
      "text/plain": [
       "(6, 11)"
      ]
     },
     "execution_count": 58,
     "metadata": {},
     "output_type": "execute_result"
    }
   ],
   "execution_count": 58
  },
  {
   "metadata": {
    "ExecuteTime": {
     "end_time": "2024-07-20T18:23:54.785594Z",
     "start_time": "2024-07-20T18:23:54.781874Z"
    }
   },
   "cell_type": "code",
   "source": [
    "tekst=\"C++ is my fav programming language\"\n",
    "re.sub( pattern=r'C\\+\\+', repl='Python', string=tekst)"
   ],
   "id": "f22afe2526382754",
   "outputs": [
    {
     "data": {
      "text/plain": [
       "'Python is my fav programming language'"
      ]
     },
     "execution_count": 59,
     "metadata": {},
     "output_type": "execute_result"
    }
   ],
   "execution_count": 59
  },
  {
   "metadata": {
    "ExecuteTime": {
     "end_time": "2024-07-20T18:33:54.609406Z",
     "start_time": "2024-07-20T18:33:54.599692Z"
    }
   },
   "cell_type": "code",
   "source": [
    "#Feature scaling\n",
    "#normalizacja zmiennej losowej - zeby była w przedziale [0;1] (lub min-max scaling)\n",
    "#df=(df-df.min())/(df.max()-df.min())\n",
    "#standaryzacja - zeby odchylenie standardowe było równe 1\n",
    "#standarized_value=(original_value-mean)/standard_deviation\n",
    "#mean, standard_deviation = df.mean(), df.std()"
   ],
   "id": "215a6e21793fd16f",
   "outputs": [],
   "execution_count": 60
  },
  {
   "metadata": {},
   "cell_type": "code",
   "outputs": [],
   "execution_count": null,
   "source": "",
   "id": "576d6fd35c1e5fa2"
  }
 ],
 "metadata": {
  "kernelspec": {
   "display_name": "Python 3",
   "language": "python",
   "name": "python3"
  },
  "language_info": {
   "codemirror_mode": {
    "name": "ipython",
    "version": 2
   },
   "file_extension": ".py",
   "mimetype": "text/x-python",
   "name": "python",
   "nbconvert_exporter": "python",
   "pygments_lexer": "ipython2",
   "version": "2.7.6"
  }
 },
 "nbformat": 4,
 "nbformat_minor": 5
}
