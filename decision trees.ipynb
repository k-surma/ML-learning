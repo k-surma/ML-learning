{
 "cells": [
  {
   "cell_type": "code",
   "id": "initial_id",
   "metadata": {
    "collapsed": true
   },
   "source": [
    "from sklearn.datasets import load_iris\n",
    "from sklearn.tree import DecisionTreeClassifier, export_graphviz\n",
    "from sklearn.model_selection import train_test_split\n",
    "from sklearn.metrics import accuracy_score\n",
    "import graphviz"
   ],
   "outputs": [],
   "execution_count": null
  },
  {
   "cell_type": "code",
   "source": [
    "#Loading the iris dataset\n",
    "iris=load_iris()\n",
    "X=iris.data\n",
    "Y=iris.target"
   ],
   "metadata": {
    "collapsed": false
   },
   "id": "55451b7a7b9fba4b",
   "outputs": [],
   "execution_count": null
  },
  {
   "cell_type": "code",
   "source": [
    "#split the data into the training and testing set\n",
    "X_train, X_test, Y_train, Y_test =train_test_split(X, Y, test_size=0.3, random_state=1)"
   ],
   "metadata": {
    "collapsed": false
   },
   "id": "2eaaf99d7252f084",
   "outputs": [],
   "execution_count": null
  },
  {
   "cell_type": "code",
   "source": [
    "clf=DecisionTreeClassifier(max_depth=3)"
   ],
   "metadata": {
    "collapsed": false
   },
   "id": "e46d89ec01e159a",
   "outputs": [],
   "execution_count": null
  },
  {
   "cell_type": "code",
   "source": [
    "clf.fit(X_train, Y_train)"
   ],
   "metadata": {
    "collapsed": false
   },
   "id": "32423e2472a57ad7",
   "outputs": [],
   "execution_count": null
  },
  {
   "cell_type": "code",
   "source": [
    "#Make predictions on the testing data\n",
    "Y_pred=clf.predict(X_test)"
   ],
   "metadata": {
    "collapsed": false
   },
   "id": "40f39c0c088858f",
   "outputs": [],
   "execution_count": null
  },
  {
   "cell_type": "code",
   "source": [
    "accuracy=accuracy_score(Y_test, Y_pred)\n",
    "print(accuracy)"
   ],
   "metadata": {
    "collapsed": false
   },
   "id": "d67b322fbc8d978f",
   "outputs": [],
   "execution_count": null
  },
  {
   "cell_type": "code",
   "source": [
    "#Visualize the decision tree \n",
    "import os\n",
    "os.environ[\"PATH\"]+=os.pathsep+r'C:\\Users\\User\\Desktop\\Graphviz-11.0.0-win64\\bin'\n",
    "dot_data=export_graphviz(clf, out_file=None, feature_names=iris.feature_names, class_names=iris.target_names, filled=True, rounded=True, special_characters=True)\n",
    "graph=graphviz.Source(dot_data)\n",
    "graph.render(\"iris_tree\", view=True)"
   ],
   "metadata": {
    "collapsed": false
   },
   "id": "e3c954f07f08542a",
   "outputs": [],
   "execution_count": null
  }
 ],
 "metadata": {
  "kernelspec": {
   "display_name": "Python 3",
   "language": "python",
   "name": "python3"
  },
  "language_info": {
   "codemirror_mode": {
    "name": "ipython",
    "version": 2
   },
   "file_extension": ".py",
   "mimetype": "text/x-python",
   "name": "python",
   "nbconvert_exporter": "python",
   "pygments_lexer": "ipython2",
   "version": "2.7.6"
  }
 },
 "nbformat": 4,
 "nbformat_minor": 5
}
